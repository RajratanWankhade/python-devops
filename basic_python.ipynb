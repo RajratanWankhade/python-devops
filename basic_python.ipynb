{
  "nbformat": 4,
  "nbformat_minor": 0,
  "metadata": {
    "colab": {
      "provenance": [],
      "authorship_tag": "ABX9TyMo90DwwuZrizljptAFCJb+",
      "include_colab_link": true
    },
    "kernelspec": {
      "name": "python3",
      "display_name": "Python 3"
    },
    "language_info": {
      "name": "python"
    }
  },
  "cells": [
    {
      "cell_type": "markdown",
      "metadata": {
        "id": "view-in-github",
        "colab_type": "text"
      },
      "source": [
        "<a href=\"https://colab.research.google.com/github/RajratanWankhade/python-devops/blob/main/basic_python.ipynb\" target=\"_parent\"><img src=\"https://colab.research.google.com/assets/colab-badge.svg\" alt=\"Open In Colab\"/></a>"
      ]
    },
    {
      "cell_type": "code",
      "execution_count": null,
      "metadata": {
        "id": "pXnw2IsfyjyH"
      },
      "outputs": [],
      "source": []
    },
    {
      "cell_type": "markdown",
      "source": [
        "#Introduction to python"
      ],
      "metadata": {
        "id": "zsVB2Uq80UC5"
      }
    },
    {
      "cell_type": "markdown",
      "source": [
        "###statements in python"
      ],
      "metadata": {
        "id": "DqmRw6AL0Y3-"
      }
    },
    {
      "cell_type": "code",
      "source": [
        "name = \"world\"\n",
        "print(f\"hello {name}\")"
      ],
      "metadata": {
        "id": "BWIrgmZV0e_N",
        "outputId": "62124999-c302-4aae-b0ef-beff82ba8fee",
        "colab": {
          "base_uri": "https://localhost:8080/"
        }
      },
      "execution_count": null,
      "outputs": [
        {
          "output_type": "stream",
          "name": "stdout",
          "text": [
            "hello world\n"
          ]
        }
      ]
    },
    {
      "cell_type": "markdown",
      "source": [
        "### Lists & Dictionaries"
      ],
      "metadata": {
        "id": "GvkNJkT_01JO"
      }
    },
    {
      "cell_type": "markdown",
      "source": [
        "####List"
      ],
      "metadata": {
        "id": "3n1t2-dv17iX"
      }
    },
    {
      "cell_type": "code",
      "source": [
        "cities = [\"Mumbai\",\"Pune\",\"Delhi\",\"Dublin\"]\n",
        "type(cities)"
      ],
      "metadata": {
        "id": "LNiGmd7705G6",
        "outputId": "744e047b-903e-4843-b9e6-0a4833818fac",
        "colab": {
          "base_uri": "https://localhost:8080/"
        }
      },
      "execution_count": null,
      "outputs": [
        {
          "output_type": "execute_result",
          "data": {
            "text/plain": [
              "list"
            ]
          },
          "metadata": {},
          "execution_count": 3
        }
      ]
    },
    {
      "cell_type": "code",
      "source": [
        "for my_city in cities:\n",
        "  print(f\"This is my favorite city: {my_city}\")"
      ],
      "metadata": {
        "id": "prUt89Yv1kIa",
        "outputId": "eb15a395-6fd6-4aff-e8c3-36bd2f135cd4",
        "colab": {
          "base_uri": "https://localhost:8080/"
        }
      },
      "execution_count": null,
      "outputs": [
        {
          "output_type": "stream",
          "name": "stdout",
          "text": [
            "This is my favorite city: Mumbai\n",
            "This is my favorite city: Pune\n",
            "This is my favorite city: Delhi\n",
            "This is my favorite city: Dublin\n"
          ]
        }
      ]
    },
    {
      "cell_type": "markdown",
      "source": [
        "####Dictionary"
      ],
      "metadata": {
        "id": "ZgMNQamC1-XM"
      }
    },
    {
      "cell_type": "code",
      "source": [
        "famous_things = {\"mumbai\":\"marine drive\",\"pune\":\"dagdusheth\",\"delhi\":\"delhi se hu ..\",\"dublin\":\"Jameson\"}"
      ],
      "metadata": {
        "id": "T4r6NYaJ1z3O"
      },
      "execution_count": null,
      "outputs": []
    },
    {
      "cell_type": "code",
      "source": [
        "famous_things.keys()"
      ],
      "metadata": {
        "id": "W2mz4EId2rJx",
        "outputId": "9d0534e0-816f-459d-a96e-9ed63b34cf7c",
        "colab": {
          "base_uri": "https://localhost:8080/"
        }
      },
      "execution_count": null,
      "outputs": [
        {
          "output_type": "execute_result",
          "data": {
            "text/plain": [
              "dict_keys(['mumbai', 'pune', 'delhi', 'dublin'])"
            ]
          },
          "metadata": {},
          "execution_count": 6
        }
      ]
    },
    {
      "cell_type": "code",
      "source": [
        "famous_things.values()"
      ],
      "metadata": {
        "id": "MiwcNvMK2vlS",
        "outputId": "7563706b-3e83-4391-9eaf-d91416c70c0e",
        "colab": {
          "base_uri": "https://localhost:8080/"
        }
      },
      "execution_count": null,
      "outputs": [
        {
          "output_type": "execute_result",
          "data": {
            "text/plain": [
              "dict_values(['marine drive', 'dagdusheth', 'delhi se hu ..', 'Jameson'])"
            ]
          },
          "metadata": {},
          "execution_count": 7
        }
      ]
    },
    {
      "cell_type": "code",
      "source": [
        "for tkeys,tvalues in famous_things.items():\n",
        "  print(f\"{tkeys} is famous for {tvalues}\")"
      ],
      "metadata": {
        "id": "zwY5S8p62yJS",
        "outputId": "665bf075-2b9c-40ba-8daf-569c0147f398",
        "colab": {
          "base_uri": "https://localhost:8080/"
        }
      },
      "execution_count": null,
      "outputs": [
        {
          "output_type": "stream",
          "name": "stdout",
          "text": [
            "mumbai is famous for marine drive\n",
            "pune is famous for dagdusheth\n",
            "delhi is famous for delhi se hu ..\n",
            "dublin is famous for Jameson\n"
          ]
        }
      ]
    },
    {
      "cell_type": "code",
      "source": [],
      "metadata": {
        "id": "_bFjJHtT3WEr"
      },
      "execution_count": null,
      "outputs": []
    }
  ]
}